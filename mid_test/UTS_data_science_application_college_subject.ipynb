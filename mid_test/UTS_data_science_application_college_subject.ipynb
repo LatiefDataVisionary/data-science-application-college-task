{
  "nbformat": 4,
  "nbformat_minor": 0,
  "metadata": {
    "colab": {
      "provenance": [],
      "authorship_tag": "ABX9TyNI/6uLG+8C4D6Th1FpVeg5",
      "include_colab_link": true
    },
    "kernelspec": {
      "name": "python3",
      "display_name": "Python 3"
    },
    "language_info": {
      "name": "python"
    }
  },
  "cells": [
    {
      "cell_type": "markdown",
      "metadata": {
        "id": "view-in-github",
        "colab_type": "text"
      },
      "source": [
        "<a href=\"https://colab.research.google.com/github/LatiefDataVisionary/data-science-application-college-task/blob/main/mid_test/UTS_data_science_application_college_subject.ipynb\" target=\"_parent\"><img src=\"https://colab.research.google.com/assets/colab-badge.svg\" alt=\"Open In Colab\"/></a>"
      ]
    },
    {
      "cell_type": "markdown",
      "source": [
        "**CP-MK:**\n",
        "\n",
        "M3: Mampu menggunakan pandas, numpy, matplotlib, seaborn untuk visualisasi data dan statistical plot.  "
      ],
      "metadata": {
        "id": "RGtgfVeW_QG4"
      }
    },
    {
      "cell_type": "markdown",
      "source": [
        "## **Soal No. 1:**\n",
        "\n",
        "Kita memiliki daftar harga Bitcoin yang dicatat setiap akhir minggu (Minggu) di 2018 dan 2019.\n",
        "Buat visualisasi yang memungkinkan Anda menjawab pertanyaan: Tahun apa, 2018 atau 2019, yang\n",
        "cenderung memberikan pengembalian yang lebih baik bagi pemegang Bitcoin?\n",
        "\n",
        "**Chart apa yang anda\n",
        "pilih untuk problem diatas dan mengapa anda memilih chart tersebut? Tahun berapa pemegang\n",
        "bitcoin memiliki keuntungan yang lebih banyak?**  "
      ],
      "metadata": {
        "id": "ZJDgnbDT_dfd"
      }
    },
    {
      "cell_type": "code",
      "source": [
        "import matplotlib.pyplot as plt\n",
        "import numpy as np\n",
        "import pandas as pd"
      ],
      "metadata": {
        "id": "BO0K9LRJEmRg"
      },
      "execution_count": 1,
      "outputs": []
    },
    {
      "cell_type": "code",
      "source": [
        "prices = [14292.2, 12858.9, 11467.5, 9241.1, 8559.6, 11073.5, 9704.3, 11402.3,\n",
        " 8762.0, 7874.9, 8547.4, 6938.2, 6905.7, 8004.4, 8923.1, 9352.4,\n",
        " 9853.5, 8459.5, 8245.1, 7361.3, 7646.6, 7515.8, 6505.8, 6167.3,\n",
        " 6398.9, 6765.5, 6254.8, 7408.7, 8234.1, 7014.3, 6231.6, 6379.1,\n",
        " 6734.8, 7189.6, 6184.3, 6519.0, 6729.6, 6603.9, 6596.3, 6321.7,\n",
        " 6572.2, 6494.2, 6386.2, 6427.1, 5621.8, 3920.4, 4196.2, 3430.4,\n",
        " 3228.7, 3964.4, 3706.8, 3785.4, # Akhir tahun 20218\n",
        " 3597.2, 3677.8, 3570.9, 3502.5, # Awal tahun 2019\n",
        " 3661.4, 3616.8, 4120.4, 3823.1, 3944.3, 4006.4, 4002.5, 4111.8,\n",
        " 5046.2, 5051.8, 5290.2, 5265.9, 5830.9, 7190.3, 7262.6, 8027.4,\n",
        " 8545.7, 7901.4, 8812.5, 10721.7, 11906.5, 11268.0, 11364.9, 10826.7,\n",
        " 9492.1, 10815.7, 11314.5, 10218.1, 10131.0, 9594.4, 10461.1, 10337.3,\n",
        " 9993.0, 8208.5, 8127.3, 8304.4, 7957.3, 9230.6, 9300.6, 8804.5,\n",
        " 8497.3, 7324.1, 7546.6, 7510.9, 7080.8, 7156.2, 7321.5, 7376.8]"
      ],
      "metadata": {
        "id": "W5h2E0k7_11F"
      },
      "execution_count": 3,
      "outputs": []
    },
    {
      "cell_type": "code",
      "execution_count": 5,
      "metadata": {
        "id": "WlXuflg5-nYI"
      },
      "outputs": [],
      "source": [
        "# Membagi data menjadi 2018 dan 2019 (masing masing 52 minggu)\n",
        "prices_2018 = prices[:52]\n",
        "prices_2019 = prices[52:]"
      ]
    },
    {
      "cell_type": "markdown",
      "source": [
        "## **Soal No. 2:**\n",
        "\n",
        "Kita memiliki sekantong permen. Terdapat lima jenis permen, masing-masing diberi nama di\n",
        "bawah ini. Buat diagram yang menunjukkan persentase peluang bahwa kita akan mengeluarkan permen **bold text**\n",
        "Snickers dari kantong jika kita melakukan pengambilan acak. Sebutkan peluang memilih permen Snickers.\n",
        "\n",
        "**Chart apa yang anda pilih untuk problem diatas dan mengapa anda memilih chart tersebut? Berapa\n",
        "persen kemungkinan Anda akan memilih Snickers saat mengeluarkan permen dari tas secara acak?**\n"
      ],
      "metadata": {
        "id": "HCksWYzB_3SC"
      }
    },
    {
      "cell_type": "code",
      "source": [
        "candy_names = ['Kit Kat', 'Snickers', 'Milky Way', 'Toblerone', 'Twi x']\n",
        "candy_counts = [52, 39, 78, 13, 78]"
      ],
      "metadata": {
        "id": "OV8K06raAI2O"
      },
      "execution_count": null,
      "outputs": []
    },
    {
      "cell_type": "code",
      "source": [],
      "metadata": {
        "id": "rdmiPbgzAdIV"
      },
      "execution_count": null,
      "outputs": []
    },
    {
      "cell_type": "markdown",
      "source": [
        "## **Soal No. 3:**\n",
        "\n",
        "Restoran memiliki menu makanan penutup yang terlalu besar. Mereka ingin memotong\n",
        "beberapa item dari menu. Untuk membuat sebagian besar pelanggan mereka senang, mereka ingin\n",
        "menghapus hanya tiga makanan penutup yang paling tidak populer dari menu. Kita memiliki daftar\n",
        "makanan penutup yang disajikan restoran, serta hitungan berapa kali makanan penutup tersebut dijual\n",
        "dalam seminggu terakhir. Buat visualisasi yang menunjukkan popularitas relatif dari makanan penutup.\n",
        "\n",
        "**Sebutkan tiga makanan penutup yang harus disingkirkan. Chart apa yang anda pilih untuk problem di\n",
        "atas dan mengapa anda memilih chart tersebut? Makanan penutup apa saja yang perlu anda\n",
        "sarankan untuk dikeluarkan dari menu?**  "
      ],
      "metadata": {
        "id": "v3I7OO7MAJKT"
      }
    },
    {
      "cell_type": "code",
      "source": [
        "dessert_sales = {\n",
        " 'Lava Cake': 14,\n",
        " 'Mousse': 5,\n",
        " 'Chocolate Cake': 12,\n",
        " 'Ice Cream': 19,\n",
        " 'Truffles': 6,\n",
        " 'Brownie': 8,\n",
        " 'Chocolate Chip Cookie': 12,\n",
        " 'Chocolate Pudding': 9,\n",
        " 'Souffle': 10,\n",
        " 'Chocolate Cheesecake': 17,\n",
        " 'Chocolate Chips': 2,\n",
        " 'Fudge': 9,\n",
        " 'Mochi': 13,\n",
        "}"
      ],
      "metadata": {
        "id": "4BjUeRXhBBYo"
      },
      "execution_count": null,
      "outputs": []
    },
    {
      "cell_type": "code",
      "source": [],
      "metadata": {
        "id": "T23aZTaEBBoV"
      },
      "execution_count": null,
      "outputs": []
    },
    {
      "cell_type": "markdown",
      "source": [
        "## **Soal No. 4:**\n",
        "\n",
        " Kita memiliki penggunaan CPU rata-rata per jam untuk komputer pekerja selama seminggu.\n",
        "Setiap baris data mewakili satu hari dalam seminggu yang dimulai dengan Senin. Setiap kolom data adalah\n",
        "satu jam dalam sehari dimulai dengan 0 menjadi tengah malam. Buat bagan yang menunjukkan\n",
        "penggunaan CPU selama seminggu. Anda harus dapat menjawab pertanyaan-pertanyaan berikut\n",
        "menggunakan bagan:\n",
        "- **Chart apa yang anda pilih untuk problem diatas dan mengapa anda memilih\n",
        "chart tersebut?**\n",
        "- **Jam berapa pekerja biasanya makan siang?**\n",
        "- **Apakah pekerja tersebut bekerja pada akhir pekan?**  \n",
        "- **Pada hari apa pekerja mulai bekerja pada komputer mereka pada malam hari?**\n"
      ],
      "metadata": {
        "id": "rooY8qYRBCD1"
      }
    },
    {
      "cell_type": "code",
      "source": [
        "cpu_usage = [\n",
        " [2, 2, 4, 2, 4, 1, 1, 4, 4, 12, 22, 23, 45, 9, 33, 56, 23, 40, 21, 6, 6, 2, 2, 3], # Monday\n",
        " [1, 2, 3, 2, 3, 2, 3, 2, 7, 22, 45, 44, 33, 9, 23, 19, 33, 56, 12, 2, 3, 1, 2, 2], # Tuesday\n",
        " [2, 3, 1, 2, 4, 4, 2, 2, 1, 2, 5, 31, 54, 7, 6, 34, 68, 34, 49, 6, 6, 2, 2, 3], # Wednesday\n",
        " [1, 2, 3, 2, 4, 1, 2, 4, 1, 17, 24, 18, 41, 3, 44, 42, 12, 36, 41, 2, 2, 4, 2, 4], # Thursday\n",
        " [4, 1, 2, 2, 3, 2, 5, 1, 2, 12, 33, 27, 43, 8, 38, 53, 29, 45, 39, 3, 1, 1, 3, 4], # Friday\n",
        " [2, 3, 1, 2, 2, 5, 2, 8, 4, 2, 3, 1, 5, 1, 2, 3, 2, 6, 1, 2, 2, 1, 4, 3], # Saturday\n",
        " [1, 2, 3, 1, 1, 3, 4, 2, 3, 1, 2, 2, 5, 3, 2, 1, 4, 2, 45, 26, 33, 2, 2, 1], # Sunday\n",
        "]"
      ],
      "metadata": {
        "id": "E1M2PHcqBDxT"
      },
      "execution_count": null,
      "outputs": []
    },
    {
      "cell_type": "code",
      "source": [],
      "metadata": {
        "id": "acQcTMUBBELJ"
      },
      "execution_count": null,
      "outputs": []
    },
    {
      "cell_type": "markdown",
      "source": [
        "## **Soal No. 5:**\n",
        "\n",
        "Seorang peneliti sedang mempelajari jamur. Mereka telah menemukan cincin jamur dan\n",
        "memberi label koordinat. Biasanya jamur menyebar keluar dari pusat jamur awal. Dengan koordinat di\n",
        "bawah ini, peneliti ingin menjawab pertanyaan:\n",
        "- **Kira-kira di manakah letak pusat pertumbuhan jamur?**\n",
        "- **Buat bagan yang memungkinkan peneliti memperkirakan pusat pertumbuhan. Chart apa yang anda pilih\n",
        "untuk problem diatas dan mengapa anda memilih chart tersebut?**\n",
        "- **Koordinat pusat (x,y) pusat\n",
        "pertumbuhan jamur berada di?**\n"
      ],
      "metadata": {
        "id": "6aUoOkITBEgN"
      }
    },
    {
      "cell_type": "code",
      "source": [
        "x = [4.61, 5.08, 5.18, 7.82, 10.46, 7.66, 7.6, 9.32, 14.04, 9.95, 4.95, 7.23,\n",
        " 5.21, 8.64, 10.08, 8.32, 12.83, 7.51, 7.82, 6.29, 0.04, 6.62, 13.16, 6.34,\n",
        " 0.09, 10.04, 13.06, 9.54, 11.32, 7.12, -0.67, 10.5, 8.37, 7.24,\n",
        "9.18, 10.12, 12.29, 8.53, 11.11, 9.65, 9.42, 8.61, -0.67, 5.94, 6.49,\n",
        "7.57, 3.11, 8.7, 5.28, 8.28, 9.55, 8.33, 13.7, 6.65, 2.4, 3.54, 9.19, 7.51,\n",
        "-0.68,\n",
        " 8.47, 14.82, 5.31, 14.01, 8.75, -0.57, 5.35, 10.51, 3.11, -0.26\n",
        ", 5.74,\n",
        " 8.33, 6.5, 13.85, 9.78, 4.91, 4.19, 14.8, 10.04, 13.47, 3.28];\n",
        "y = [-2.36, -3.41, 13.01, -2.91, -2.28, 12.83, 13.13, 11.94, 0.93, -2.76, 13.31,\n",
        " -3.57, -2.33, 12.43, -1.83, 12.32, -0.42, -3.08, -2.98, 12.46,\n",
        "8.34, -3.19,\n",
        " -0.47, 12.78, 2.12, -2.72, 10.64, 11.98, 12.21, 12.52, 5.53, 11.72, 12.91,\n",
        " 12.56, -2.49, 12.08, -1.09, -2.89, -1.78, -2.47, 12.77, 12.41,\n",
        "5.33, -3.23,\n",
        " 13.45, -3.41, 12.46, 12.1, -2.56, 12.51, -2.37, 12.76, 9.69, 12.59, -1.12,\n",
        " -2.8, 12.94, -3.55, 7.33, 12.59, 2.92, 12.7, 0.5, 12.57, 6.39,\n",
        "12.84,\n",
        " -1.95, 11.76, 6.82, 12.44, 13.28, -3.46, 0.7, -2.55, -2.37, 12.48, 7.26,\n",
        " -2.45, 0.31, -2.51]"
      ],
      "metadata": {
        "id": "4oY9SR6ZBGck"
      },
      "execution_count": null,
      "outputs": []
    },
    {
      "cell_type": "code",
      "source": [],
      "metadata": {
        "id": "zAXfEZBMBGy_"
      },
      "execution_count": null,
      "outputs": []
    }
  ]
}